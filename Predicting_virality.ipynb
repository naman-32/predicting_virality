{
  "nbformat": 4,
  "nbformat_minor": 0,
  "metadata": {
    "colab": {
      "name": "Predicting_virality.ipynb",
      "provenance": [],
      "toc_visible": true
    },
    "kernelspec": {
      "name": "python3",
      "display_name": "Python 3"
    }
  },
  "cells": [
    {
      "cell_type": "markdown",
      "metadata": {
        "id": "_JxN_dU-Zlut",
        "colab_type": "text"
      },
      "source": [
        "# Building the dataset \n",
        "\n",
        "\n",
        "1.  from one news website as appears differerntly google search algorithms\n",
        "2.   one topic like world news\n",
        "3.  not very recent as their shares might not have stagnated from proper response\n",
        "\n",
        "\n",
        "\n"
      ]
    },
    {
      "cell_type": "code",
      "metadata": {
        "id": "rFRTYAq2ZR0s",
        "colab_type": "code",
        "colab": {
          "base_uri": "https://localhost:8080/",
          "height": 1000
        },
        "outputId": "438e5781-e308-4be2-817f-92e475dcc362"
      },
      "source": [
        "!sudo apt-get install python3-pip\n",
        "\n"
      ],
      "execution_count": 1,
      "outputs": [
        {
          "output_type": "stream",
          "text": [
            "Reading package lists... Done\n",
            "Building dependency tree       \n",
            "Reading state information... Done\n",
            "The following additional packages will be installed:\n",
            "  python-pip-whl python3-asn1crypto python3-cffi-backend python3-crypto\n",
            "  python3-cryptography python3-idna python3-keyring python3-keyrings.alt\n",
            "  python3-pkg-resources python3-secretstorage python3-setuptools python3-six\n",
            "  python3-wheel python3-xdg\n",
            "Suggested packages:\n",
            "  python-crypto-doc python-cryptography-doc python3-cryptography-vectors\n",
            "  gnome-keyring libkf5wallet-bin gir1.2-gnomekeyring-1.0\n",
            "  python-secretstorage-doc python-setuptools-doc\n",
            "The following NEW packages will be installed:\n",
            "  python-pip-whl python3-asn1crypto python3-cffi-backend python3-crypto\n",
            "  python3-cryptography python3-idna python3-keyring python3-keyrings.alt\n",
            "  python3-pip python3-pkg-resources python3-secretstorage python3-setuptools\n",
            "  python3-six python3-wheel python3-xdg\n",
            "0 upgraded, 15 newly installed, 0 to remove and 25 not upgraded.\n",
            "Need to get 2,883 kB of archives.\n",
            "After this operation, 8,884 kB of additional disk space will be used.\n",
            "Get:1 http://archive.ubuntu.com/ubuntu bionic-updates/universe amd64 python-pip-whl all 9.0.1-2.3~ubuntu1.18.04.1 [1,653 kB]\n",
            "Get:2 http://archive.ubuntu.com/ubuntu bionic/main amd64 python3-asn1crypto all 0.24.0-1 [72.8 kB]\n",
            "Get:3 http://archive.ubuntu.com/ubuntu bionic/main amd64 python3-cffi-backend amd64 1.11.5-1 [64.6 kB]\n",
            "Get:4 http://archive.ubuntu.com/ubuntu bionic/main amd64 python3-crypto amd64 2.6.1-8ubuntu2 [244 kB]\n",
            "Get:5 http://archive.ubuntu.com/ubuntu bionic/main amd64 python3-idna all 2.6-1 [32.5 kB]\n",
            "Get:6 http://archive.ubuntu.com/ubuntu bionic/main amd64 python3-six all 1.11.0-2 [11.4 kB]\n",
            "Get:7 http://archive.ubuntu.com/ubuntu bionic-updates/main amd64 python3-cryptography amd64 2.1.4-1ubuntu1.3 [221 kB]\n",
            "Get:8 http://archive.ubuntu.com/ubuntu bionic/main amd64 python3-secretstorage all 2.3.1-2 [12.1 kB]\n",
            "Get:9 http://archive.ubuntu.com/ubuntu bionic/main amd64 python3-keyring all 10.6.0-1 [26.7 kB]\n",
            "Get:10 http://archive.ubuntu.com/ubuntu bionic/main amd64 python3-keyrings.alt all 3.0-1 [16.6 kB]\n",
            "Get:11 http://archive.ubuntu.com/ubuntu bionic-updates/universe amd64 python3-pip all 9.0.1-2.3~ubuntu1.18.04.1 [114 kB]\n",
            "Get:12 http://archive.ubuntu.com/ubuntu bionic/main amd64 python3-pkg-resources all 39.0.1-2 [98.8 kB]\n",
            "Get:13 http://archive.ubuntu.com/ubuntu bionic/main amd64 python3-setuptools all 39.0.1-2 [248 kB]\n",
            "Get:14 http://archive.ubuntu.com/ubuntu bionic/universe amd64 python3-wheel all 0.30.0-0.2 [36.5 kB]\n",
            "Get:15 http://archive.ubuntu.com/ubuntu bionic/main amd64 python3-xdg all 0.25-4ubuntu1 [31.4 kB]\n",
            "Fetched 2,883 kB in 1s (2,201 kB/s)\n",
            "debconf: unable to initialize frontend: Dialog\n",
            "debconf: (No usable dialog-like program is installed, so the dialog based frontend cannot be used. at /usr/share/perl5/Debconf/FrontEnd/Dialog.pm line 76, <> line 15.)\n",
            "debconf: falling back to frontend: Readline\n",
            "debconf: unable to initialize frontend: Readline\n",
            "debconf: (This frontend requires a controlling tty.)\n",
            "debconf: falling back to frontend: Teletype\n",
            "dpkg-preconfigure: unable to re-open stdin: \n",
            "Selecting previously unselected package python-pip-whl.\n",
            "(Reading database ... 144568 files and directories currently installed.)\n",
            "Preparing to unpack .../00-python-pip-whl_9.0.1-2.3~ubuntu1.18.04.1_all.deb ...\n",
            "Unpacking python-pip-whl (9.0.1-2.3~ubuntu1.18.04.1) ...\n",
            "Selecting previously unselected package python3-asn1crypto.\n",
            "Preparing to unpack .../01-python3-asn1crypto_0.24.0-1_all.deb ...\n",
            "Unpacking python3-asn1crypto (0.24.0-1) ...\n",
            "Selecting previously unselected package python3-cffi-backend.\n",
            "Preparing to unpack .../02-python3-cffi-backend_1.11.5-1_amd64.deb ...\n",
            "Unpacking python3-cffi-backend (1.11.5-1) ...\n",
            "Selecting previously unselected package python3-crypto.\n",
            "Preparing to unpack .../03-python3-crypto_2.6.1-8ubuntu2_amd64.deb ...\n",
            "Unpacking python3-crypto (2.6.1-8ubuntu2) ...\n",
            "Selecting previously unselected package python3-idna.\n",
            "Preparing to unpack .../04-python3-idna_2.6-1_all.deb ...\n",
            "Unpacking python3-idna (2.6-1) ...\n",
            "Selecting previously unselected package python3-six.\n",
            "Preparing to unpack .../05-python3-six_1.11.0-2_all.deb ...\n",
            "Unpacking python3-six (1.11.0-2) ...\n",
            "Selecting previously unselected package python3-cryptography.\n",
            "Preparing to unpack .../06-python3-cryptography_2.1.4-1ubuntu1.3_amd64.deb ...\n",
            "Unpacking python3-cryptography (2.1.4-1ubuntu1.3) ...\n",
            "Selecting previously unselected package python3-secretstorage.\n",
            "Preparing to unpack .../07-python3-secretstorage_2.3.1-2_all.deb ...\n",
            "Unpacking python3-secretstorage (2.3.1-2) ...\n",
            "Selecting previously unselected package python3-keyring.\n",
            "Preparing to unpack .../08-python3-keyring_10.6.0-1_all.deb ...\n",
            "Unpacking python3-keyring (10.6.0-1) ...\n",
            "Selecting previously unselected package python3-keyrings.alt.\n",
            "Preparing to unpack .../09-python3-keyrings.alt_3.0-1_all.deb ...\n",
            "Unpacking python3-keyrings.alt (3.0-1) ...\n",
            "Selecting previously unselected package python3-pip.\n",
            "Preparing to unpack .../10-python3-pip_9.0.1-2.3~ubuntu1.18.04.1_all.deb ...\n",
            "Unpacking python3-pip (9.0.1-2.3~ubuntu1.18.04.1) ...\n",
            "Selecting previously unselected package python3-pkg-resources.\n",
            "Preparing to unpack .../11-python3-pkg-resources_39.0.1-2_all.deb ...\n",
            "Unpacking python3-pkg-resources (39.0.1-2) ...\n",
            "Selecting previously unselected package python3-setuptools.\n",
            "Preparing to unpack .../12-python3-setuptools_39.0.1-2_all.deb ...\n",
            "Unpacking python3-setuptools (39.0.1-2) ...\n",
            "Selecting previously unselected package python3-wheel.\n",
            "Preparing to unpack .../13-python3-wheel_0.30.0-0.2_all.deb ...\n",
            "Unpacking python3-wheel (0.30.0-0.2) ...\n",
            "Selecting previously unselected package python3-xdg.\n",
            "Preparing to unpack .../14-python3-xdg_0.25-4ubuntu1_all.deb ...\n",
            "Unpacking python3-xdg (0.25-4ubuntu1) ...\n",
            "Setting up python-pip-whl (9.0.1-2.3~ubuntu1.18.04.1) ...\n",
            "Setting up python3-cffi-backend (1.11.5-1) ...\n",
            "Setting up python3-crypto (2.6.1-8ubuntu2) ...\n",
            "Setting up python3-idna (2.6-1) ...\n",
            "Setting up python3-xdg (0.25-4ubuntu1) ...\n",
            "Setting up python3-six (1.11.0-2) ...\n",
            "Setting up python3-wheel (0.30.0-0.2) ...\n",
            "Setting up python3-pkg-resources (39.0.1-2) ...\n",
            "Setting up python3-asn1crypto (0.24.0-1) ...\n",
            "Setting up python3-pip (9.0.1-2.3~ubuntu1.18.04.1) ...\n",
            "Setting up python3-setuptools (39.0.1-2) ...\n",
            "Setting up python3-cryptography (2.1.4-1ubuntu1.3) ...\n",
            "Setting up python3-keyrings.alt (3.0-1) ...\n",
            "Setting up python3-secretstorage (2.3.1-2) ...\n",
            "Setting up python3-keyring (10.6.0-1) ...\n",
            "Processing triggers for man-db (2.8.3-2ubuntu0.1) ...\n"
          ],
          "name": "stdout"
        }
      ]
    },
    {
      "cell_type": "code",
      "metadata": {
        "id": "aEgo2Zw9Zik2",
        "colab_type": "code",
        "colab": {
          "base_uri": "https://localhost:8080/",
          "height": 102
        },
        "outputId": "726223b8-a41f-4ab0-8c0a-f1592a3b01a0"
      },
      "source": [
        "!sudo apt-get install python-dev"
      ],
      "execution_count": 2,
      "outputs": [
        {
          "output_type": "stream",
          "text": [
            "Reading package lists... Done\n",
            "Building dependency tree       \n",
            "Reading state information... Done\n",
            "python-dev is already the newest version (2.7.15~rc1-1).\n",
            "0 upgraded, 0 newly installed, 0 to remove and 25 not upgraded.\n"
          ],
          "name": "stdout"
        }
      ]
    },
    {
      "cell_type": "code",
      "metadata": {
        "id": "MTPPEmq-aJYr",
        "colab_type": "code",
        "colab": {
          "base_uri": "https://localhost:8080/",
          "height": 442
        },
        "outputId": "11db5e0d-02d0-4e16-f977-6024d78bd2c0"
      },
      "source": [
        "!sudo apt-get install libxml2-dev libxslt-dev"
      ],
      "execution_count": 3,
      "outputs": [
        {
          "output_type": "stream",
          "text": [
            "Reading package lists... Done\n",
            "Building dependency tree       \n",
            "Reading state information... Done\n",
            "Note, selecting 'libxslt1-dev' instead of 'libxslt-dev'\n",
            "libxml2-dev is already the newest version (2.9.4+dfsg1-6.1ubuntu1.3).\n",
            "The following NEW packages will be installed:\n",
            "  libxslt1-dev\n",
            "0 upgraded, 1 newly installed, 0 to remove and 25 not upgraded.\n",
            "Need to get 407 kB of archives.\n",
            "After this operation, 2,473 kB of additional disk space will be used.\n",
            "Get:1 http://archive.ubuntu.com/ubuntu bionic-updates/main amd64 libxslt1-dev amd64 1.1.29-5ubuntu0.2 [407 kB]\n",
            "Fetched 407 kB in 1s (577 kB/s)\n",
            "debconf: unable to initialize frontend: Dialog\n",
            "debconf: (No usable dialog-like program is installed, so the dialog based frontend cannot be used. at /usr/share/perl5/Debconf/FrontEnd/Dialog.pm line 76, <> line 1.)\n",
            "debconf: falling back to frontend: Readline\n",
            "debconf: unable to initialize frontend: Readline\n",
            "debconf: (This frontend requires a controlling tty.)\n",
            "debconf: falling back to frontend: Teletype\n",
            "dpkg-preconfigure: unable to re-open stdin: \n",
            "Selecting previously unselected package libxslt1-dev:amd64.\n",
            "(Reading database ... 145248 files and directories currently installed.)\n",
            "Preparing to unpack .../libxslt1-dev_1.1.29-5ubuntu0.2_amd64.deb ...\n",
            "Unpacking libxslt1-dev:amd64 (1.1.29-5ubuntu0.2) ...\n",
            "Setting up libxslt1-dev:amd64 (1.1.29-5ubuntu0.2) ...\n",
            "Processing triggers for man-db (2.8.3-2ubuntu0.1) ...\n"
          ],
          "name": "stdout"
        }
      ]
    },
    {
      "cell_type": "code",
      "metadata": {
        "id": "Hrn7Ou1FabFq",
        "colab_type": "code",
        "colab": {
          "base_uri": "https://localhost:8080/",
          "height": 170
        },
        "outputId": "e1ee9105-3293-4d4f-f1dc-de978b6f8995"
      },
      "source": [
        "!sudo apt-get install libjpeg-dev zlib1g-dev libpng-dev"
      ],
      "execution_count": 4,
      "outputs": [
        {
          "output_type": "stream",
          "text": [
            "Reading package lists... Done\n",
            "Building dependency tree       \n",
            "Reading state information... Done\n",
            "libjpeg-dev is already the newest version (8c-2ubuntu8).\n",
            "libjpeg-dev set to manually installed.\n",
            "zlib1g-dev is already the newest version (1:1.2.11.dfsg-0ubuntu2).\n",
            "zlib1g-dev set to manually installed.\n",
            "libpng-dev is already the newest version (1.6.34-1ubuntu0.18.04.2).\n",
            "0 upgraded, 0 newly installed, 0 to remove and 25 not upgraded.\n"
          ],
          "name": "stdout"
        }
      ]
    },
    {
      "cell_type": "code",
      "metadata": {
        "id": "joixnundatf2",
        "colab_type": "code",
        "colab": {
          "base_uri": "https://localhost:8080/",
          "height": 408
        },
        "outputId": "711677e7-bb1d-46d3-a902-7916ee5aa22b"
      },
      "source": [
        "!curl https://raw.githubusercontent.com/codelucas/newspaper/master/download_corpora.py | python3"
      ],
      "execution_count": 5,
      "outputs": [
        {
          "output_type": "stream",
          "text": [
            "  % Total    % Received % Xferd  Average Speed   Time    Time     Time  Current\n",
            "                                 Dload  Upload   Total   Spent    Left  Speed\n",
            "\r  0     0    0     0    0     0      0      0 --:--:-- --:--:-- --:--:--     0\r100   657  100   657    0     0   3386      0 --:--:-- --:--:-- --:--:--  3386\n",
            "Downloading \"brown\"\n",
            "[nltk_data] Downloading package brown to /root/nltk_data...\n",
            "[nltk_data]   Unzipping corpora/brown.zip.\n",
            "Downloading \"punkt\"\n",
            "[nltk_data] Downloading package punkt to /root/nltk_data...\n",
            "[nltk_data]   Unzipping tokenizers/punkt.zip.\n",
            "Downloading \"maxent_treebank_pos_tagger\"\n",
            "[nltk_data] Downloading package maxent_treebank_pos_tagger to\n",
            "[nltk_data]     /root/nltk_data...\n",
            "[nltk_data]   Unzipping taggers/maxent_treebank_pos_tagger.zip.\n",
            "Downloading \"movie_reviews\"\n",
            "[nltk_data] Downloading package movie_reviews to /root/nltk_data...\n",
            "[nltk_data]   Unzipping corpora/movie_reviews.zip.\n",
            "Downloading \"wordnet\"\n",
            "[nltk_data] Downloading package wordnet to /root/nltk_data...\n",
            "[nltk_data]   Unzipping corpora/wordnet.zip.\n",
            "Downloading \"stopwords\"\n",
            "[nltk_data] Downloading package stopwords to /root/nltk_data...\n",
            "[nltk_data]   Unzipping corpora/stopwords.zip.\n",
            "Finished.\n"
          ],
          "name": "stdout"
        }
      ]
    },
    {
      "cell_type": "code",
      "metadata": {
        "id": "NykPDAPkbI9o",
        "colab_type": "code",
        "colab": {
          "base_uri": "https://localhost:8080/",
          "height": 850
        },
        "outputId": "4c445394-bf17-4499-fe77-da211de60cac"
      },
      "source": [
        "!pip3 install newspaper3k"
      ],
      "execution_count": 6,
      "outputs": [
        {
          "output_type": "stream",
          "text": [
            "Collecting newspaper3k\n",
            "\u001b[?25l  Downloading https://files.pythonhosted.org/packages/d7/b9/51afecb35bb61b188a4b44868001de348a0e8134b4dfa00ffc191567c4b9/newspaper3k-0.2.8-py3-none-any.whl (211kB)\n",
            "\r\u001b[K     |█▌                              | 10kB 16.6MB/s eta 0:00:01\r\u001b[K     |███                             | 20kB 2.1MB/s eta 0:00:01\r\u001b[K     |████▋                           | 30kB 2.8MB/s eta 0:00:01\r\u001b[K     |██████▏                         | 40kB 2.0MB/s eta 0:00:01\r\u001b[K     |███████▊                        | 51kB 2.2MB/s eta 0:00:01\r\u001b[K     |█████████▎                      | 61kB 2.7MB/s eta 0:00:01\r\u001b[K     |██████████▉                     | 71kB 2.8MB/s eta 0:00:01\r\u001b[K     |████████████▍                   | 81kB 3.0MB/s eta 0:00:01\r\u001b[K     |██████████████                  | 92kB 3.4MB/s eta 0:00:01\r\u001b[K     |███████████████▌                | 102kB 3.4MB/s eta 0:00:01\r\u001b[K     |█████████████████               | 112kB 3.4MB/s eta 0:00:01\r\u001b[K     |██████████████████▋             | 122kB 3.4MB/s eta 0:00:01\r\u001b[K     |████████████████████▏           | 133kB 3.4MB/s eta 0:00:01\r\u001b[K     |█████████████████████▊          | 143kB 3.4MB/s eta 0:00:01\r\u001b[K     |███████████████████████▎        | 153kB 3.4MB/s eta 0:00:01\r\u001b[K     |████████████████████████▉       | 163kB 3.4MB/s eta 0:00:01\r\u001b[K     |██████████████████████████▍     | 174kB 3.4MB/s eta 0:00:01\r\u001b[K     |████████████████████████████    | 184kB 3.4MB/s eta 0:00:01\r\u001b[K     |█████████████████████████████▌  | 194kB 3.4MB/s eta 0:00:01\r\u001b[K     |███████████████████████████████ | 204kB 3.4MB/s eta 0:00:01\r\u001b[K     |████████████████████████████████| 215kB 3.4MB/s \n",
            "\u001b[?25hRequirement already satisfied: beautifulsoup4>=4.4.1 in /usr/local/lib/python3.6/dist-packages (from newspaper3k) (4.6.3)\n",
            "Requirement already satisfied: requests>=2.10.0 in /usr/local/lib/python3.6/dist-packages (from newspaper3k) (2.21.0)\n",
            "Collecting feedparser>=5.2.1\n",
            "\u001b[?25l  Downloading https://files.pythonhosted.org/packages/91/d8/7d37fec71ff7c9dbcdd80d2b48bcdd86d6af502156fc93846fb0102cb2c4/feedparser-5.2.1.tar.bz2 (192kB)\n",
            "\u001b[K     |████████████████████████████████| 194kB 10.2MB/s \n",
            "\u001b[?25hCollecting jieba3k>=0.35.1\n",
            "\u001b[?25l  Downloading https://files.pythonhosted.org/packages/a9/cb/2c8332bcdc14d33b0bedd18ae0a4981a069c3513e445120da3c3f23a8aaa/jieba3k-0.35.1.zip (7.4MB)\n",
            "\u001b[K     |████████████████████████████████| 7.4MB 8.9MB/s \n",
            "\u001b[?25hRequirement already satisfied: python-dateutil>=2.5.3 in /usr/local/lib/python3.6/dist-packages (from newspaper3k) (2.8.1)\n",
            "Collecting feedfinder2>=0.0.4\n",
            "  Downloading https://files.pythonhosted.org/packages/35/82/1251fefec3bb4b03fd966c7e7f7a41c9fc2bb00d823a34c13f847fd61406/feedfinder2-0.0.4.tar.gz\n",
            "Collecting tinysegmenter==0.3\n",
            "  Downloading https://files.pythonhosted.org/packages/17/82/86982e4b6d16e4febc79c2a1d68ee3b707e8a020c5d2bc4af8052d0f136a/tinysegmenter-0.3.tar.gz\n",
            "Requirement already satisfied: nltk>=3.2.1 in /usr/local/lib/python3.6/dist-packages (from newspaper3k) (3.2.5)\n",
            "Collecting cssselect>=0.9.2\n",
            "  Downloading https://files.pythonhosted.org/packages/3b/d4/3b5c17f00cce85b9a1e6f91096e1cc8e8ede2e1be8e96b87ce1ed09e92c5/cssselect-1.1.0-py2.py3-none-any.whl\n",
            "Requirement already satisfied: Pillow>=3.3.0 in /usr/local/lib/python3.6/dist-packages (from newspaper3k) (7.0.0)\n",
            "Requirement already satisfied: PyYAML>=3.11 in /usr/local/lib/python3.6/dist-packages (from newspaper3k) (3.13)\n",
            "Requirement already satisfied: lxml>=3.6.0 in /usr/local/lib/python3.6/dist-packages (from newspaper3k) (4.2.6)\n",
            "Collecting tldextract>=2.0.1\n",
            "\u001b[?25l  Downloading https://files.pythonhosted.org/packages/fd/0e/9ab599d6e78f0340bb1d1e28ddeacb38c8bb7f91a1b0eae9a24e9603782f/tldextract-2.2.2-py2.py3-none-any.whl (48kB)\n",
            "\u001b[K     |████████████████████████████████| 51kB 6.6MB/s \n",
            "\u001b[?25hRequirement already satisfied: urllib3<1.25,>=1.21.1 in /usr/local/lib/python3.6/dist-packages (from requests>=2.10.0->newspaper3k) (1.24.3)\n",
            "Requirement already satisfied: idna<2.9,>=2.5 in /usr/local/lib/python3.6/dist-packages (from requests>=2.10.0->newspaper3k) (2.8)\n",
            "Requirement already satisfied: certifi>=2017.4.17 in /usr/local/lib/python3.6/dist-packages (from requests>=2.10.0->newspaper3k) (2020.4.5.1)\n",
            "Requirement already satisfied: chardet<3.1.0,>=3.0.2 in /usr/local/lib/python3.6/dist-packages (from requests>=2.10.0->newspaper3k) (3.0.4)\n",
            "Requirement already satisfied: six>=1.5 in /usr/local/lib/python3.6/dist-packages (from python-dateutil>=2.5.3->newspaper3k) (1.12.0)\n",
            "Requirement already satisfied: setuptools in /usr/local/lib/python3.6/dist-packages (from tldextract>=2.0.1->newspaper3k) (46.1.3)\n",
            "Collecting requests-file>=1.4\n",
            "  Downloading https://files.pythonhosted.org/packages/77/86/cdb5e8eaed90796aa83a6d9f75cfbd37af553c47a291cd47bc410ef9bdb2/requests_file-1.5.1-py2.py3-none-any.whl\n",
            "Building wheels for collected packages: feedparser, jieba3k, feedfinder2, tinysegmenter\n",
            "  Building wheel for feedparser (setup.py) ... \u001b[?25l\u001b[?25hdone\n",
            "  Created wheel for feedparser: filename=feedparser-5.2.1-cp36-none-any.whl size=44940 sha256=e7c7658941be0c0ed1227cbe5f0972f72ff784030d9d31bd10071da326c7e052\n",
            "  Stored in directory: /root/.cache/pip/wheels/8c/69/b7/f52763c41c5471df57703a0ef718a32a5e81ee35dcf6d4f97f\n",
            "  Building wheel for jieba3k (setup.py) ... \u001b[?25l\u001b[?25hdone\n",
            "  Created wheel for jieba3k: filename=jieba3k-0.35.1-cp36-none-any.whl size=7398406 sha256=98df4cb8a3531510a838fbad1994b3dc3dff7a8a2bfce10d460dca5219dc83a0\n",
            "  Stored in directory: /root/.cache/pip/wheels/83/15/9c/a3f1f67e7f7181170ad37d32e503c35da20627c013f438ed34\n",
            "  Building wheel for feedfinder2 (setup.py) ... \u001b[?25l\u001b[?25hdone\n",
            "  Created wheel for feedfinder2: filename=feedfinder2-0.0.4-cp36-none-any.whl size=3357 sha256=3c2484ec568cf5633542e5de31539042f2380f50ff0e78bc6911e5f2204e06d3\n",
            "  Stored in directory: /root/.cache/pip/wheels/de/03/ca/778e3a7a627e3d98836cc890e7cb40c7575424cfd3340f40ed\n",
            "  Building wheel for tinysegmenter (setup.py) ... \u001b[?25l\u001b[?25hdone\n",
            "  Created wheel for tinysegmenter: filename=tinysegmenter-0.3-cp36-none-any.whl size=13539 sha256=e003d60fd36162afa60ee5c93e5a1cc98a8cdcf253aba4b8cfdb4201d55e7393\n",
            "  Stored in directory: /root/.cache/pip/wheels/81/2b/43/a02ede72324dd40cdd7ca53aad718c7710628e91b8b0dc0f02\n",
            "Successfully built feedparser jieba3k feedfinder2 tinysegmenter\n",
            "Installing collected packages: feedparser, jieba3k, feedfinder2, tinysegmenter, cssselect, requests-file, tldextract, newspaper3k\n",
            "Successfully installed cssselect-1.1.0 feedfinder2-0.0.4 feedparser-5.2.1 jieba3k-0.35.1 newspaper3k-0.2.8 requests-file-1.5.1 tinysegmenter-0.3 tldextract-2.2.2\n"
          ],
          "name": "stdout"
        }
      ]
    },
    {
      "cell_type": "code",
      "metadata": {
        "id": "hpKJDtbTbSla",
        "colab_type": "code",
        "colab": {
          "base_uri": "https://localhost:8080/",
          "height": 714
        },
        "outputId": "2e07038d-a8aa-4f2e-8b50-7ff598b4a494"
      },
      "source": [
        "import newspaper\n",
        "newspaper.languages()"
      ],
      "execution_count": 7,
      "outputs": [
        {
          "output_type": "stream",
          "text": [
            "\n",
            "Your available languages are:\n",
            "\n",
            "input code\t\tfull name\n",
            "  id\t\t\t  Indonesian\n",
            "  fr\t\t\t  French\n",
            "  hi\t\t\t  Hindi\n",
            "  it\t\t\t  Italian\n",
            "  ru\t\t\t  Russian\n",
            "  sr\t\t\t  Serbian\n",
            "  bg\t\t\t  Bulgarian\n",
            "  ko\t\t\t  Korean\n",
            "  fa\t\t\t  Persian\n",
            "  da\t\t\t  Danish\n",
            "  fi\t\t\t  Finnish\n",
            "  de\t\t\t  German\n",
            "  pt\t\t\t  Portuguese\n",
            "  sv\t\t\t  Swedish\n",
            "  pl\t\t\t  Polish\n",
            "  en\t\t\t  English\n",
            "  ro\t\t\t  Romanian\n",
            "  tr\t\t\t  Turkish\n",
            "  ja\t\t\t  Japanese\n",
            "  no\t\t\t  Norwegian\n",
            "  sw\t\t\t  Swahili\n",
            "  ar\t\t\t  Arabic\n",
            "  et\t\t\t  Estonian\n",
            "  hr\t\t\t  Croatian\n",
            "  zh\t\t\t  Chinese\n",
            "  nb\t\t\t  Norwegian (Bokmål)\n",
            "  mk\t\t\t  Macedonian\n",
            "  el\t\t\t  Greek\n",
            "  uk\t\t\t  Ukrainian\n",
            "  be\t\t\t  Belarusian\n",
            "  nl\t\t\t  Dutch\n",
            "  vi\t\t\t  Vietnamese\n",
            "  hu\t\t\t  Hungarian\n",
            "  he\t\t\t  Hebrew\n",
            "  sl\t\t\t  Slovenian\n",
            "  es\t\t\t  Spanish\n",
            "\n"
          ],
          "name": "stdout"
        }
      ]
    },
    {
      "cell_type": "code",
      "metadata": {
        "id": "4HpywmFbd6zY",
        "colab_type": "code",
        "colab": {}
      },
      "source": [
        "from newspaper import Config, Article, Source\n",
        "\n",
        "config = Config()\n",
        "config.MAX_TITLE = 300\n",
        "config.keep_article_html = True\n",
        "# config.request_timeout = 50\n",
        "# config.verbose = True\n",
        "\n",
        "\n",
        "gd_paper = newspaper.build('https://www.theguardian.com/environment/all' , memoize_articles=False)#, config)"
      ],
      "execution_count": 0,
      "outputs": []
    },
    {
      "cell_type": "code",
      "metadata": {
        "id": "pihXVBa9Ara5",
        "colab_type": "code",
        "colab": {
          "base_uri": "https://localhost:8080/",
          "height": 51
        },
        "outputId": "dfcba9ef-a186-47bf-e37e-8eb2782743a1"
      },
      "source": [
        "print(gd_paper)\n",
        "\n",
        "print(gd_paper.size())\n",
        "\n",
        "\n",
        "\n"
      ],
      "execution_count": 27,
      "outputs": [
        {
          "output_type": "stream",
          "text": [
            "<newspaper.source.Source object at 0x7f0030d9ac18>\n",
            "122\n"
          ],
          "name": "stdout"
        }
      ]
    },
    {
      "cell_type": "code",
      "metadata": {
        "id": "nc_wvAb1BPq4",
        "colab_type": "code",
        "colab": {
          "base_uri": "https://localhost:8080/",
          "height": 1000
        },
        "outputId": "6ce0ac9e-5ca5-4c6b-98b5-6a49c865a490"
      },
      "source": [
        "for article in gd_paper.articles:\n",
        "    print(article.url)"
      ],
      "execution_count": 28,
      "outputs": [
        {
          "output_type": "stream",
          "text": [
            "https://www.theguardian.com/mobile/2014/may/29/the-guardian-for-mobile-and-tablet\n",
            "https://www.theguardian.com/world/live/2020/apr/28/coronavirus-live-news-trump-says-china-could-have-stopped-virus-as-global-cases-pass-3-million\n",
            "https://www.theguardian.com/world/2020/apr/28/trump-says-china-could-have-stopped-covid-19-and-suggests-us-will-seek-damages\n",
            "https://www.theguardian.com/world/2020/apr/28/spanish-official-apologises-for-spraying-beach-with-bleach-coronavirus\n",
            "https://www.theguardian.com/world/2020/apr/28/new-zealand-starts-gradual-exit-from-coronavirus-lockdown\n",
            "https://www.theguardian.com/global-development/2020/apr/28/three-women-killed-in-spain-as-coronavirus-lockdown-sees-rise-in-domestic-violence\n",
            "https://www.theguardian.com/global-development/2020/apr/28/calamitous-domestic-violence-set-to-soar-by-20-during-global-lockdown-coronavirus\n",
            "https://www.theguardian.com/world/2020/apr/28/france-and-spain-announcement-lockdowns-ease\n",
            "https://www.theguardian.com/world/2020/apr/28/lithuanian-capital-to-be-turned-into-vast-open-air-cafe-vilnius\n",
            "https://www.theguardian.com/world/2020/apr/28/jair-bolsonaro-faces-inquiry-into-claims-of-meddling-with-police\n",
            "https://www.theguardian.com/world/2020/apr/28/record-50-million-people-internally-displaced-in-2019-study-finds\n",
            "https://www.theguardian.com/business/live/2020/apr/28/oil-tumbles-brent-crude-bp-shock-ftse-recession-covid-19business-live\n",
            "https://www.theguardian.com/environment/2020/apr/28/climate-dangerous-documentary-planet-of-the-humans-michael-moore-taken-down\n",
            "https://www.theguardian.com/world/2020/apr/28/amazon-online-platforms-far-right-splc\n",
            "https://www.theguardian.com/world/2020/apr/28/norwegian-tycoon-tom-hagen-arrested-over-wifes-disappearance-in-2018\n",
            "https://www.theguardian.com/world/2020/apr/28/completion-new-genoa-bridge-symbol-of-hope-italy-morandi\n",
            "https://www.theguardian.com/fashion/2020/apr/28/victoria-beckham-firm-sued-by-ex-employee-over-hand-injury\n",
            "https://www.theguardian.com/society/2020/apr/28/mps-to-try-to-ban-rough-sex-defence-in-domestic-abuse-bill\n",
            "https://www.theguardian.com/artanddesign/2020/apr/28/dutch-researchers-coax-secrets-from-girl-with-a-pearl-earring\n",
            "https://www.theguardian.com/cities/2014/jan/27/cities-about-this-site\n",
            "https://www.theguardian.com/cities/2020/jan/03/the-bold-new-plan-for-an-indigenous-led-development-in-vancouver\n",
            "https://www.theguardian.com/cities/2019/dec/31/india-primed-what-amazons-vast-new-hyderabad-campus-reveals-about-its-plans\n",
            "https://www.theguardian.com/cities/2019/dec/28/secular-israel-sabbath-buses\n",
            "https://www.theguardian.com/cities/2019/dec/24/from-rubbish-to-rice-the-cafe-that-gives-food-in-exchange-for-plastic\n",
            "https://www.theguardian.com/food/2020/apr/28/how-to-pickle-bottle-and-preserve-almost-everything\n",
            "https://www.theguardian.com/uk-news/2020/apr/28/sturgeon-urges-scots-to-wear-coronavirus-face-masks-for-shopping-and-travel\n",
            "https://www.theguardian.com/world/2020/apr/28/ramadan-tv-dramas-signal-shift-in-arab-israeli-relations\n",
            "https://www.theguardian.com/world/2020/apr/28/nigerian-authorities-deny-wave-of-deaths-is-due-to-covid-19\n",
            "https://www.theguardian.com/world/live/2020/apr/28/coronavirus-us-live-congress-may-return-america-reopening-trump-cuomo-latest-news-updates\n",
            "https://www.theguardian.com/environment/2020/apr/28/ron-finley-gangsta-gardener-transforming-los-angeles\n",
            "https://www.theguardian.com/world/2020/apr/28/new-zealand-share-your-experiences-of-leaving-coroanvirus-lockdown\n",
            "https://www.theguardian.com/australia-news/2020/apr/28/angus-taylor-makes-distinction-between-downloading-and-accessing-document-in-clover-moore-attack\n",
            "https://www.theguardian.com/info/2017/jun/08/global-dispatch-sign-up-for-a-different-world-view\n",
            "http://www.theguardian.com/global-development/2010/sep/14/about-this-site\n",
            "https://www.theguardian.com/global-development/2020/apr/27/rwandan-police-chief-accused-of-sexual-assault-of-child-refugee-at-un-centre\n",
            "https://www.theguardian.com/global-development/2020/apr/27/a-rise-in-deaths-from-preventable-diseases-must-not-be-part-of-covid-19s-legacy\n",
            "https://www.theguardian.com/global-development/2020/apr/27/pandemic-jeopardises-support-for-worlds-poor-as-charities-lose-millions-covid-19\n",
            "https://www.theguardian.com/global-development/2020/apr/25/africas-covid-19-research-must-be-tailored-to-its-realities-by-its-own-scientists\n",
            "https://www.theguardian.com/commentisfree/2018/mar/22/this-is-europe-sign-up-guardian-email-updates\n",
            "https://www.theguardian.com/us-news/2020/apr/28/african-americans-unemployment-covid-19-economic-impact\n",
            "https://www.theguardian.com/us-news/2020/apr/27/donald-trump-coronavirus-kim-jong-un\n",
            "https://www.theguardian.com/world/2020/apr/26/the-key-areas-to-look-at-in-easing-the-uk-coronavirus-lockdown\n",
            "https://www.theguardian.com/us-news/2020/apr/26/government-state-role-pandemic-coronavirus\n",
            "https://www.theguardian.com/us-news/gallery/2020/apr/28/seattle-artists-murals-stores-coronavirus\n",
            "https://www.theguardian.com/world/video/2020/apr/28/british-ambassador-plays-musical-tribute-to-covid-19-health-workers-in-uk-and-portugal-video\n",
            "https://www.theguardian.com/world/video/2020/apr/28/pentagon-officially-releases-ufo-videos-video\n",
            "https://www.theguardian.com/world/gallery/2020/apr/28/bondi-beach-and-bronte-welcome-back-swimmers-as-coronavirus-lockdown-relaxed-in-pictures\n",
            "https://www.theguardian.com/us-news/video/2020/apr/27/what-not-to-do-governor-newsom-condemns-california-beach-crowds-video\n",
            "https://www.theguardian.com/world/video/2020/apr/27/boris-johnson-second-covid-19-peak-will-be-disaster-if-lockdown-lifted-too-early-video\n",
            "https://www.theguardian.com/world/gallery/2020/apr/27/running-free-spanish-children-released-from-lockdown-in-pictures\n",
            "https://www.theguardian.com/world/2020/apr/27/pentagon-releases-three-ufo-videos-taken-by-us-navy-pilots\n",
            "https://www.theguardian.com/world/live/2020/apr/28/uk-coronavirus-live-news-minutes-silence-to-commemorate-key-workers-who-have-died\n",
            "https://www.theguardian.com/world/2020/apr/28/son-of-doctor-who-died-from-covid-19-intisar-chowdhury-confronts-matt-hancock-over-ppe\n",
            "https://www.theguardian.com/world/2020/apr/28/uk-records-4343-care-home-coronavirus-deaths-in-a-fortnight\n",
            "https://www.theguardian.com/world/2020/apr/27/german-doctors-pose-naked-in-protest-at-ppe-shortages\n",
            "https://www.theguardian.com/world/2020/apr/28/coronavirus-pulse-oximeter-healthcare\n",
            "https://soulmates.theguardian.com/blog/dating-locations/dating/win-two-tickets-to-andy-warhol-a-meal-for-two-at-tate-modern\n",
            "https://soulmates.theguardian.com/blog/advice/how-to-exude-confidence-in-your-dating-profile-photos\n",
            "https://www.theguardian.com/help/2020/feb/06/the-guardian-puzzles-subscription-faqs\n",
            "https://www.theguardian.com/us-news/2020/apr/28/new-york-andrew-cuomo-coronavirus-blew-the-bugle\n",
            "https://www.theguardian.com/world/2020/apr/28/suicide-us-gun-sales-searches-coronavirus\n",
            "https://www.theguardian.com/us-news/2020/apr/28/donald-trump-judges-create-new-conservative-america-republicans\n",
            "https://www.theguardian.com/us-news/2020/apr/28/explainer-why-has-trump-appointed-so-many-judges\n",
            "https://www.theguardian.com/commentisfree/2020/apr/28/trump-judges-giant-step-backward-america\n",
            "https://www.theguardian.com/us-news/2019/dec/25/trump-judiciary-judges-legal-america\n",
            "https://www.theguardian.com/us-news/2020/apr/28/gun-violence-survivors-oakland-bay-area\n",
            "https://www.theguardian.com/sport/2020/apr/28/la-lakers-small-business-relief-loan-coronavirus-basketball\n",
            "https://www.theguardian.com/world/2020/apr/28/where-is-kim-jong-un-why-the-whereabouts-of-north-korean-leader-remain-a-mystery\n",
            "https://www.theguardian.com/world/2020/apr/28/china-starts-major-trial-of-state-run-digital-currency\n",
            "https://www.theguardian.com/world/2020/apr/28/there-is-no-absolute-truth-an-infectious-disease-expert-on-covid-19-misinformation-and-bullshit\n",
            "https://www.theguardian.com/us-news/2020/apr/28/us-face-masks-n95-surgical-coronavirus-health-workers\n",
            "https://www.theguardian.com/world/ng-interactive/2020/apr/27/coronavirus-map-of-the-us-latest-cases-state-by-state\n",
            "https://www.theguardian.com/us-news/2020/apr/28/nurse-lockdown-protests-coronavirus-hospitals\n",
            "https://www.theguardian.com/sport/2020/apr/28/when-will-sports-return-coronavirus-covid-19-medical-experts\n",
            "https://www.theguardian.com/commentisfree/2020/apr/28/coronavirus-covid-19-shops-business-economy\n",
            "https://www.theguardian.com/us-news/2020/apr/27/california-beaches-coronavirus-orange-county\n",
            "https://www.theguardian.com/world/2020/apr/28/dont-have-to-fight-for-pennies-new-zealand-safety-net-helps-sex-workers-in-lockdown\n",
            "https://www.theguardian.com/world/2020/mar/18/coronavirus-the-week-explained-sign-up-for-our-email-newsletter\n",
            "https://www.theguardian.com/lifeandstyle/2020/apr/28/caroline-calloway-survived-being-cancelled\n",
            "https://www.theguardian.com/artanddesign/2020/apr/28/coronavirus-words-at-the-window-photography\n",
            "https://www.theguardian.com/fashion/2020/apr/28/thundercat-this-outfit-looks-playful-but-its-very-serious\n",
            "https://www.theguardian.com/artanddesign/2020/apr/28/paul-mpagi-sepuya-mapplethorpe-queer-zine-legend-who-shoots-faceless-portraits\n",
            "https://www.theguardian.com/film/2020/apr/28/blood-quantum-horror-film\n",
            "https://www.theguardian.com/society/2020/apr/28/the-extreme-loneliness-of-lockdown-even-though-my-partner-is-here-im-struggling-to-cope\n",
            "http://www.theguardian.com/commentisfree/2015/may/11/sign-up-for-the-best-of-opinion-us-daily-email\n",
            "https://www.theguardian.com/commentisfree/2020/apr/28/trump-is-unravelling-even-his-supporters-cant-ignore-it-now\n",
            "https://www.theguardian.com/commentisfree/2020/apr/27/trump-is-a-danger-to-the-american-people-but-the-republicans-refuse-to-stop-him\n",
            "https://www.theguardian.com/commentisfree/2020/apr/27/trump-covid-19-global-response-ilhan-omar\n",
            "https://www.theguardian.com/commentisfree/2020/apr/28/theres-no-such-thing-just-following-the-science-coronavirus-advice-political\n",
            "https://www.theguardian.com/sport/2020/apr/28/justin-rohrwasser-tattoo-new-england-patriots-three-percenters\n",
            "https://www.theguardian.com/sport/2020/apr/27/aaron-rodgers-green-bay-packers-nfl-draft-jordan-love\n",
            "https://www.theguardian.com/sport/2020/apr/28/holding-tokyo-olympics-in-2021-will-be-difficult-japanese-health-chief-warns\n",
            "https://www.theguardian.com/football/2020/apr/28/juan-antonio-pizzi-bobby-robson-barcelona-chile-guardiola-alexis-sanchez-manchester-united\n",
            "https://www.theguardian.com/news/series/todayinfocus\n",
            "https://www.theguardian.com/news/audio/2020/apr/28/the-secretive-scientific-committee-guiding-britains-coronavirus-response\n",
            "https://www.theguardian.com/tv-and-radio/2020/apr/28/jodie-comer-new-bbc-alan-bennett-talking-heads\n",
            "https://www.theguardian.com/tv-and-radio/2020/apr/28/once-upon-a-time-from-america-how-us-television-took-over-our-screens\n",
            "https://www.theguardian.com/film/2020/apr/28/online-film-festival-we-are-one-cannot-replace-cinema\n",
            "https://www.theguardian.com/media/2020/apr/27/never-have-i-ever-netflix-mindy-kaling\n",
            "https://www.theguardian.com/film/2020/apr/27/worlds-biggest-film-festivals-unite-for-10-day-streaming-event\n",
            "https://www.theguardian.com/info/2018/sep/17/guardian-us-morning-briefing-sign-up-to-stay-informed?INTCMP=us_briefing_thrasher\n",
            "https://www.theguardian.com/us-news/2020/apr/27/oakland-migrant-kids-murder-schools\n",
            "https://www.theguardian.com/film/2020/apr/27/michelle-obama-documentary-becoming-netflix\n",
            "https://www.theguardian.com/us-news/2020/apr/27/us-warning-pandemic-anti-vaxxers\n",
            "https://www.theguardian.com/us-news/2020/apr/27/missouri-odessa-coronavirus-economy-business\n",
            "https://www.theguardian.com/us-news/2020/apr/27/joe-biden-trump-coronavirus-politics-pandemic\n",
            "https://www.theguardian.com/us-news/2020/apr/27/us-states-councils-pacts-coronavirus-trump\n",
            "https://www.theguardian.com/environment/2020/apr/28/nature-survives-in-the-tiniest-corners-the-barbican-brutalist-london-wild-heart-aoe\n",
            "https://www.theguardian.com/world/2020/apr/28/gordon-brown-urges-china-and-us-to-join-global-covid-19-action\n",
            "https://www.theguardian.com/fashion/2020/apr/28/shave-it-or-save-it-the-11-big-lockdown-hair-conundrums-answered-by-experts\n",
            "https://www.theguardian.com/fashion/gallery/2020/apr/28/nightlife-in-quarantine-what-club-kids-are-wearing-in-lockdown\n",
            "https://www.theguardian.com/global/video/2020/apr/28/minutes-silence-held-to-honour-key-workers-who-died-from-coronavirus-video\n",
            "https://www.theguardian.com/stage/video/2020/apr/26/watch-aiww-the-arrest-of-ai-weiwei-staged-at-hampstead-theatre-video\n",
            "https://www.theguardian.com/global/video/2020/apr/26/coronavirus-cuomo-says-says-he-wants-to-reimagine-rather-than-just-reopen-new-york-video\n",
            "https://www.theguardian.com/world/video/2020/apr/26/stuntmen-rolling-stones-and-capt-tom-at-no1-the-weeks-most-uplifting-clips-video\n",
            "https://www.theguardian.com/world/video/2020/apr/10/new-york-city-subway-coronavirus-video\n",
            "https://www.theguardian.com/artanddesign/2020/apr/28/firecracker-grant-photographers-gender-peyton-fulford-sabine-ostinvil\n",
            "https://www.theguardian.com/news/gallery/2020/apr/28/rooftop-yoga-and-a-stud-farm-tuesdays-best-photos\n",
            "https://www.theguardian.com/help/ng-interactive/2017/mar/17/contact-the-guardian-securely\n",
            "https://www.theguardian.com/environment/2020/apr/27/meteorologists-say-2020-on-course-to-be-hottest-year-since-records-began\n",
            "https://www.theguardian.com/us-news/2020/apr/28/first-thing-trumps-latest-coronavirus-take-sue-china\n",
            "https://www.theguardian.com/commentisfree/2015/may/11/sign-up-for-the-best-of-opinion-us-daily-email\n"
          ],
          "name": "stdout"
        }
      ]
    },
    {
      "cell_type": "code",
      "metadata": {
        "id": "m0kAHPA3vXut",
        "colab_type": "code",
        "colab": {
          "base_uri": "https://localhost:8080/",
          "height": 122
        },
        "outputId": "c4ecc3a0-2d31-42c3-bb6d-30fff6ae986b"
      },
      "source": [
        "from google.colab import drive \n",
        "drive.mount('/content/gdrive') "
      ],
      "execution_count": 29,
      "outputs": [
        {
          "output_type": "stream",
          "text": [
            "Go to this URL in a browser: https://accounts.google.com/o/oauth2/auth?client_id=947318989803-6bn6qk8qdgf4n4g3pfee6491hc0brc4i.apps.googleusercontent.com&redirect_uri=urn%3aietf%3awg%3aoauth%3a2.0%3aoob&response_type=code&scope=email%20https%3a%2f%2fwww.googleapis.com%2fauth%2fdocs.test%20https%3a%2f%2fwww.googleapis.com%2fauth%2fdrive%20https%3a%2f%2fwww.googleapis.com%2fauth%2fdrive.photos.readonly%20https%3a%2f%2fwww.googleapis.com%2fauth%2fpeopleapi.readonly\n",
            "\n",
            "Enter your authorization code:\n",
            "··········\n",
            "Mounted at /content/gdrive\n"
          ],
          "name": "stdout"
        }
      ]
    },
    {
      "cell_type": "code",
      "metadata": {
        "id": "Q9qMWZERJQd6",
        "colab_type": "code",
        "colab": {
          "base_uri": "https://localhost:8080/",
          "height": 129
        },
        "outputId": "ee6ebc1b-0f7c-454a-8d21-882b08646157"
      },
      "source": [
        "from newspaper import Config, Article, Source\n",
        "import json\n",
        "import urllib2\n",
        "from bs4 import BeautifulSoup\n",
        "\n",
        "'''\n",
        "\n",
        "http://content.guardianapis.com/search?q=occupy+wall+street&from-date=2011-09-01&to-date=2012-02-14&page=2\n",
        "\n",
        "&page-size=3&format=json&show-fields=all&use-date=newspaper-edition&api-key=m....g33gzq\n",
        "\n",
        "# https://content.guardianapis.com/search?section=environment&from-date=2016-01-01&to-date=2020-01-01&page-size=50&page=1&lang=en&api-key=8aea213e-736a-4625-a61e-52b6c2185c76&show-fields=all&show-tags=keyword\n",
        "https://content.guardianapis.com/environment?q=environment&from-date=2016-01-01&to-date=2020-01-01&page-size=50&page=1&lang=en&api-key=8aea213e-736a-4625-a61e-52b6c2185c76&show-fields=all\n",
        "'''\n",
        "\n",
        "'''step 1: input query information'''\n",
        "apiUrl='https://content.guardianapis.com/environment?q=environment'#'http://content.guardianapis.com/search?q=occupy+wall+street' # set the query word here\n",
        "apiDate='from-date=2016-01-01&to-date=2020-01-01'#'from-date=2011-09-01&to-date=2011-10-14'           # set the date here\n",
        "apiPage='page=1'   # set the page\n",
        "apiNum=50       # set the number of articles in one page\n",
        "apiPageSize=''.join(['page-size=',str(apiNum)])\n",
        "fields='format=json&show-fields=all&use-date=newspaper-edition'\n",
        "key='api-key=8aea213e-736a-4625-a61e-52b6c2185c76' # input your key here\n",
        "api_lang = 'lang=en'\n",
        "\n",
        "'''step 2: get the number of offset/pages'''\n",
        "link=[apiUrl, apiDate, apiPage, apiPageSize,api_lang, fields, key]\n",
        "ReqUrl='&'.join(link)\n",
        "jstr = urllib2.urlopen(ReqUrl).read() # t = jstr.strip('()')\n",
        "ts = json.loads( jstr )\n",
        "number=ts['response']['total'] # the number of queries # query=ts['tokens'] # result=ts['results']\n",
        "print number\n",
        "seq=range(number/(apiNum-1)) # this is not a good way\n",
        "print seq\n",
        "\n",
        "'''step 3: crawl the data and dump into csv'''\n",
        "!import csv\n",
        "addressForSavingData= \"/content/gdrive/My Drive/predicting_virality/guardian.csv\"#\"D:/Research/Dropbox/tweets/wapor_assessing online opinion/News coverage of ows/guardian.csv\"\n",
        "file = open(addressForSavingData,'wb') # save to csv file\n",
        "for i in seq:\n",
        "    nums=str(i+1)\n",
        "    apiPages=''.join(['page=', nums]) # I made error here, and print is a good way to test\n",
        "    links= [apiUrl, apiDate, apiPages, apiPageSize, api_lang, fields, key]\n",
        "    ReqUrls='&'.join(links)\n",
        "    print \"*_____________*\", ReqUrls\n",
        "    jstrs = urllib2.urlopen(ReqUrls).read()\n",
        "    t = jstrs.strip('()')\n",
        "    tss= json.loads( t )\n",
        "    result = tss['response']['results']\n",
        "    for ob in result:\n",
        "        title=ob['webTitle'].encode('utf-8') # body=ob['body']  # body,url,title,date,des_facet,desk_facet,byline\n",
        "        print title\n",
        "        # section=ob[\"sectionName\"].encode('utf-8')\n",
        "        art_url=ob['webUrl']\n",
        "        \n",
        "        # date=ob['fields']['newspaperEditionDate'] # date=ob['webPublicationDate'] # byline=ob['fields']['byline']\n",
        "        day = ob['webPublicationDate'].date.weekday()\n",
        "        \n",
        "        \n",
        "        \n",
        "        weekday_is_monday=0         #: Was the article published on a Monday?\n",
        "        weekday_is_tuesday=0          #: Was the article published on a Tuesday?\n",
        "        weekday_is_wednesday=0             #: Was the article published on a Wednesday?\n",
        "        weekday_is_thursday=0                 #: Was the article published on a Thursday?\n",
        "        weekday_is_friday=0                    #: Was the article published on a Friday?\n",
        "        weekday_is_saturday=0                #: Was the article published on a Saturday?\n",
        "        weekday_is_sunday=0                       ##: Was the article published on a Sunday?\n",
        "        is_weekend=0                        #:\n",
        "\n",
        "        if day==0:\n",
        "          weekday_is_monday = 1   \n",
        "            \n",
        "        # : Was the article published on a Monday?\n",
        "        if day==1:\n",
        "          weekday_is_tuesday= 1 \n",
        "\n",
        "        # : Was the article published on a Tuesday?\n",
        "        if day==2:\n",
        "          weekday_is_wednesday= 1      \n",
        "        # : Was the article published on a Wednesday?\n",
        "        if day==3:\n",
        "          weekday_is_thursday= 1      \n",
        "        # : Was the article published on a Thursday?\n",
        "        if day==4:\n",
        "          weekday_is_friday= 1      \n",
        "        # : Was the article published on a Friday?\n",
        "        if day==5:\n",
        "          weekday_is_saturday= 1      \n",
        "        # : Was the article published on a Saturday?\n",
        "        if day==6:\n",
        "          weekday_is_sunday= 1      \n",
        "        # : Was the article published on a Sunday?\n",
        "        if day==5 or day==6:\n",
        "          is_weekend = 1\n",
        "       \n",
        "        \n",
        "        \n",
        "        soup = BeautifulSoup(ob['fields']['headline'])\n",
        "        headline = soup.get_text()\n",
        "\n",
        "        soup = BeautifulSoup(ob['fields']['standfirst'])\n",
        "        standfirst = soup.get_text()\n",
        "\n",
        "        soup = BeautifulSoup(ob['fields']['trailText'])\n",
        "        trailText = soup.get_text()\n",
        "        \n",
        "        first_article = Article(url=art_url)\n",
        "        first_article.download()\n",
        "        first_article.parse()\n",
        "\n",
        "        num_images = len(first_article.images)\n",
        "\n",
        "        num_movies = len(first_article.movies)\n",
        "\n",
        "        summary = first_article.summary\n",
        "\n",
        "        keywords = first_article.keywords\n",
        "\n",
        "        num_words = ob['fields']['wordcount']\n",
        "        \n",
        "        \n",
        "        \n",
        "        \n",
        "\n",
        "\n",
        "        w = csv.writer(file,delimiter=',',quotechar='|', quoting=csv.QUOTE_MINIMAL)\n",
        "        w.writerow((date, title, section, url)) # write it out\n",
        "file.close()\n",
        "pass\n",
        "\n",
        "\n",
        "\n"
      ],
      "execution_count": 30,
      "outputs": [
        {
          "output_type": "error",
          "ename": "SyntaxError",
          "evalue": "ignored",
          "traceback": [
            "\u001b[0;36m  File \u001b[0;32m\"<ipython-input-30-a808e6e96136>\"\u001b[0;36m, line \u001b[0;32m32\u001b[0m\n\u001b[0;31m    print number\u001b[0m\n\u001b[0m               ^\u001b[0m\n\u001b[0;31mSyntaxError\u001b[0m\u001b[0;31m:\u001b[0m Missing parentheses in call to 'print'. Did you mean print(number)?\n"
          ]
        }
      ]
    },
    {
      "cell_type": "code",
      "metadata": {
        "id": "vS32nYL97aDI",
        "colab_type": "code",
        "colab": {
          "base_uri": "https://localhost:8080/",
          "height": 1000
        },
        "outputId": "bd806819-1689-4c7a-e885-68796338f70a"
      },
      "source": [
        "\n",
        "import json\n",
        "import urllib.request\n",
        "from bs4 import BeautifulSoup\n",
        "\n",
        "!pip install selenium\n",
        "!apt-get update # to update ubuntu to correctly run apt install\n",
        "!apt install chromium-chromedriver\n",
        "!cp /usr/lib/chromium-browser/chromedriver /usr/bin\n",
        "import sys\n",
        "sys.path.insert(0,'/usr/lib/chromium-browser/chromedriver')\n",
        "from selenium import webdriver\n",
        "chrome_options = webdriver.ChromeOptions()\n",
        "chrome_options.add_argument('--headless')\n",
        "chrome_options.add_argument('--no-sandbox')\n",
        "chrome_options.add_argument('--disable-dev-shm-usage')\n",
        "\n",
        "\n",
        "\n",
        "from selenium import webdriver\n",
        "from selenium.webdriver.support.ui import WebDriverWait\n",
        "from selenium.webdriver.support import expected_conditions as EC\n",
        "from selenium.common.exceptions import TimeoutException\n",
        "\n",
        "url ='https://www.theguardian.com/news/datablog/2014/apr/17/the-guardians-top-100-which-articles-have-been-most-popular'\n",
        "wd = webdriver.Chrome('chromedriver',chrome_options=chrome_options)\n",
        "wd.get(url)\n",
        "delay = 5 # seconds\n",
        "\n",
        "try:\n",
        "    WebDriverWait(driver, delay).until(EC.presence_of_element_located(driver.find_elements_by_xpath('..//elementid')))\n",
        "    # print \"Page is ready!\"\n",
        "    get_div = driver.find_element_by_class_name('sharecount__value sharecount__value--full')\n",
        "    print(get_div.text)\n",
        "except TimeoutException:\n",
        "    print(\"Couldn't load page\")\n",
        "\n",
        "# page = urllib.request.urlopen('https://www.theguardian.com/news/datablog/2014/apr/17/the-guardians-top-100-which-articles-have-been-most-popular')\n",
        "# soup = BeautifulSoup(page, 'html.parser')\n",
        "# print(soup)\n",
        "# price_box = soup.find('div', attrs={'class':'sharecount__value'})\n",
        "# price = price_box.text\n",
        "# print(price)"
      ],
      "execution_count": 46,
      "outputs": [
        {
          "output_type": "stream",
          "text": [
            "Requirement already satisfied: selenium in /usr/local/lib/python3.6/dist-packages (3.141.0)\n",
            "Requirement already satisfied: urllib3 in /usr/local/lib/python3.6/dist-packages (from selenium) (1.24.3)\n",
            "Get:1 https://cloud.r-project.org/bin/linux/ubuntu bionic-cran35/ InRelease [3,626 B]\n",
            "Get:2 http://security.ubuntu.com/ubuntu bionic-security InRelease [88.7 kB]\n",
            "Ign:3 https://developer.download.nvidia.com/compute/cuda/repos/ubuntu1804/x86_64  InRelease\n",
            "Ign:4 https://developer.download.nvidia.com/compute/machine-learning/repos/ubuntu1804/x86_64  InRelease\n",
            "Get:5 http://ppa.launchpad.net/graphics-drivers/ppa/ubuntu bionic InRelease [21.3 kB]\n",
            "Hit:6 https://developer.download.nvidia.com/compute/cuda/repos/ubuntu1804/x86_64  Release\n",
            "Hit:7 https://developer.download.nvidia.com/compute/machine-learning/repos/ubuntu1804/x86_64  Release\n",
            "Hit:8 http://archive.ubuntu.com/ubuntu bionic InRelease\n",
            "Get:9 http://archive.ubuntu.com/ubuntu bionic-updates InRelease [88.7 kB]\n",
            "Get:10 https://cloud.r-project.org/bin/linux/ubuntu bionic-cran35/ Packages [89.3 kB]\n",
            "Get:11 http://ppa.launchpad.net/marutter/c2d4u3.5/ubuntu bionic InRelease [15.4 kB]\n",
            "Get:12 http://security.ubuntu.com/ubuntu bionic-security/multiverse amd64 Packages [8,213 B]\n",
            "Get:13 http://archive.ubuntu.com/ubuntu bionic-backports InRelease [74.6 kB]\n",
            "Get:14 http://security.ubuntu.com/ubuntu bionic-security/universe amd64 Packages [839 kB]\n",
            "Get:15 http://security.ubuntu.com/ubuntu bionic-security/restricted amd64 Packages [44.6 kB]\n",
            "Get:16 http://security.ubuntu.com/ubuntu bionic-security/main amd64 Packages [889 kB]\n",
            "Get:19 http://ppa.launchpad.net/graphics-drivers/ppa/ubuntu bionic/main amd64 Packages [37.4 kB]\n",
            "Get:20 http://archive.ubuntu.com/ubuntu bionic-updates/multiverse amd64 Packages [12.6 kB]\n",
            "Get:21 http://ppa.launchpad.net/marutter/c2d4u3.5/ubuntu bionic/main Sources [1,811 kB]\n",
            "Get:22 http://archive.ubuntu.com/ubuntu bionic-updates/universe amd64 Packages [1,372 kB]\n",
            "Get:23 http://archive.ubuntu.com/ubuntu bionic-updates/restricted amd64 Packages [59.0 kB]\n",
            "Get:24 http://archive.ubuntu.com/ubuntu bionic-updates/main amd64 Packages [1,184 kB]\n",
            "Get:25 http://archive.ubuntu.com/ubuntu bionic-backports/main amd64 Packages [8,286 B]\n",
            "Get:26 http://archive.ubuntu.com/ubuntu bionic-backports/universe amd64 Packages [7,671 B]\n",
            "Get:27 http://ppa.launchpad.net/marutter/c2d4u3.5/ubuntu bionic/main amd64 Packages [874 kB]\n",
            "Fetched 7,529 kB in 4s (1,967 kB/s)\n",
            "Reading package lists... Done\n",
            "Reading package lists... Done\n",
            "Building dependency tree       \n",
            "Reading state information... Done\n",
            "The following additional packages will be installed:\n",
            "  chromium-browser chromium-browser-l10n chromium-codecs-ffmpeg-extra\n",
            "Suggested packages:\n",
            "  webaccounts-chromium-extension unity-chromium-extension adobe-flashplugin\n",
            "The following NEW packages will be installed:\n",
            "  chromium-browser chromium-browser-l10n chromium-chromedriver\n",
            "  chromium-codecs-ffmpeg-extra\n",
            "0 upgraded, 4 newly installed, 0 to remove and 97 not upgraded.\n",
            "Need to get 74.4 MB of archives.\n",
            "After this operation, 264 MB of additional disk space will be used.\n",
            "Get:1 http://archive.ubuntu.com/ubuntu bionic-updates/universe amd64 chromium-codecs-ffmpeg-extra amd64 80.0.3987.163-0ubuntu0.18.04.1 [1,095 kB]\n",
            "Get:2 http://archive.ubuntu.com/ubuntu bionic-updates/universe amd64 chromium-browser amd64 80.0.3987.163-0ubuntu0.18.04.1 [66.1 MB]\n",
            "Get:3 http://archive.ubuntu.com/ubuntu bionic-updates/universe amd64 chromium-browser-l10n all 80.0.3987.163-0ubuntu0.18.04.1 [3,160 kB]\n",
            "Get:4 http://archive.ubuntu.com/ubuntu bionic-updates/universe amd64 chromium-chromedriver amd64 80.0.3987.163-0ubuntu0.18.04.1 [4,045 kB]\n",
            "Fetched 74.4 MB in 4s (20.5 MB/s)\n",
            "Selecting previously unselected package chromium-codecs-ffmpeg-extra.\n",
            "(Reading database ... 145393 files and directories currently installed.)\n",
            "Preparing to unpack .../chromium-codecs-ffmpeg-extra_80.0.3987.163-0ubuntu0.18.04.1_amd64.deb ...\n",
            "Unpacking chromium-codecs-ffmpeg-extra (80.0.3987.163-0ubuntu0.18.04.1) ...\n",
            "Selecting previously unselected package chromium-browser.\n",
            "Preparing to unpack .../chromium-browser_80.0.3987.163-0ubuntu0.18.04.1_amd64.deb ...\n",
            "Unpacking chromium-browser (80.0.3987.163-0ubuntu0.18.04.1) ...\n",
            "Selecting previously unselected package chromium-browser-l10n.\n",
            "Preparing to unpack .../chromium-browser-l10n_80.0.3987.163-0ubuntu0.18.04.1_all.deb ...\n",
            "Unpacking chromium-browser-l10n (80.0.3987.163-0ubuntu0.18.04.1) ...\n",
            "Selecting previously unselected package chromium-chromedriver.\n",
            "Preparing to unpack .../chromium-chromedriver_80.0.3987.163-0ubuntu0.18.04.1_amd64.deb ...\n",
            "Unpacking chromium-chromedriver (80.0.3987.163-0ubuntu0.18.04.1) ...\n",
            "Setting up chromium-codecs-ffmpeg-extra (80.0.3987.163-0ubuntu0.18.04.1) ...\n",
            "Setting up chromium-browser (80.0.3987.163-0ubuntu0.18.04.1) ...\n",
            "update-alternatives: using /usr/bin/chromium-browser to provide /usr/bin/x-www-browser (x-www-browser) in auto mode\n",
            "update-alternatives: using /usr/bin/chromium-browser to provide /usr/bin/gnome-www-browser (gnome-www-browser) in auto mode\n",
            "Setting up chromium-chromedriver (80.0.3987.163-0ubuntu0.18.04.1) ...\n",
            "Setting up chromium-browser-l10n (80.0.3987.163-0ubuntu0.18.04.1) ...\n",
            "Processing triggers for hicolor-icon-theme (0.17-2) ...\n",
            "Processing triggers for mime-support (3.60ubuntu1) ...\n",
            "Processing triggers for man-db (2.8.3-2ubuntu0.1) ...\n",
            "cp: '/usr/lib/chromium-browser/chromedriver' and '/usr/bin/chromedriver' are the same file\n"
          ],
          "name": "stdout"
        },
        {
          "output_type": "stream",
          "text": [
            "/usr/local/lib/python3.6/dist-packages/ipykernel_launcher.py:26: DeprecationWarning: use options instead of chrome_options\n"
          ],
          "name": "stderr"
        },
        {
          "output_type": "error",
          "ename": "NameError",
          "evalue": "ignored",
          "traceback": [
            "\u001b[0;31m---------------------------------------------------------------------------\u001b[0m",
            "\u001b[0;31mNameError\u001b[0m                                 Traceback (most recent call last)",
            "\u001b[0;32m<ipython-input-46-423de4288d02>\u001b[0m in \u001b[0;36m<module>\u001b[0;34m()\u001b[0m\n\u001b[1;32m     29\u001b[0m \u001b[0;34m\u001b[0m\u001b[0m\n\u001b[1;32m     30\u001b[0m \u001b[0;32mtry\u001b[0m\u001b[0;34m:\u001b[0m\u001b[0;34m\u001b[0m\u001b[0;34m\u001b[0m\u001b[0m\n\u001b[0;32m---> 31\u001b[0;31m     \u001b[0mWebDriverWait\u001b[0m\u001b[0;34m(\u001b[0m\u001b[0mdriver\u001b[0m\u001b[0;34m,\u001b[0m \u001b[0mdelay\u001b[0m\u001b[0;34m)\u001b[0m\u001b[0;34m.\u001b[0m\u001b[0muntil\u001b[0m\u001b[0;34m(\u001b[0m\u001b[0mEC\u001b[0m\u001b[0;34m.\u001b[0m\u001b[0mpresence_of_element_located\u001b[0m\u001b[0;34m(\u001b[0m\u001b[0mdriver\u001b[0m\u001b[0;34m.\u001b[0m\u001b[0mfind_elements_by_xpath\u001b[0m\u001b[0;34m(\u001b[0m\u001b[0;34m'..//elementid'\u001b[0m\u001b[0;34m)\u001b[0m\u001b[0;34m)\u001b[0m\u001b[0;34m)\u001b[0m\u001b[0;34m\u001b[0m\u001b[0;34m\u001b[0m\u001b[0m\n\u001b[0m\u001b[1;32m     32\u001b[0m     \u001b[0;31m# print \"Page is ready!\"\u001b[0m\u001b[0;34m\u001b[0m\u001b[0;34m\u001b[0m\u001b[0;34m\u001b[0m\u001b[0m\n\u001b[1;32m     33\u001b[0m     \u001b[0mget_div\u001b[0m \u001b[0;34m=\u001b[0m \u001b[0mdriver\u001b[0m\u001b[0;34m.\u001b[0m\u001b[0mfind_element_by_class_name\u001b[0m\u001b[0;34m(\u001b[0m\u001b[0;34m'sharecount__value sharecount__value--full'\u001b[0m\u001b[0;34m)\u001b[0m\u001b[0;34m\u001b[0m\u001b[0;34m\u001b[0m\u001b[0m\n",
            "\u001b[0;31mNameError\u001b[0m: name 'driver' is not defined"
          ]
        }
      ]
    },
    {
      "cell_type": "code",
      "metadata": {
        "id": "PldSl-oV79Ar",
        "colab_type": "code",
        "colab": {}
      },
      "source": [
        ""
      ],
      "execution_count": 0,
      "outputs": []
    }
  ]
}